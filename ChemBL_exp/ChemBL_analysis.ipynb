{
 "cells": [
  {
   "cell_type": "code",
   "execution_count": 1,
   "id": "6eace406-874f-45c8-a827-277ad69fcd7f",
   "metadata": {},
   "outputs": [],
   "source": [
    "import numpy as np\n",
    "import pandas as pd\n",
    "import matplotlib.pyplot as plt\n",
    "\n",
    "from sklearn.model_selection import train_test_split\n",
    "from sklearn.neighbors import KNeighborsClassifier\n",
    "from sklearn.pipeline import Pipeline\n",
    "from sklearn.preprocessing import StandardScaler\n",
    "\n",
    "from chembl_webresource_client.new_client import new_client \n"
   ]
  },
  {
   "cell_type": "code",
   "execution_count": 2,
   "id": "5cdff829-4295-4609-a1d3-b7ba734cb19d",
   "metadata": {},
   "outputs": [],
   "source": [
    "molecule = new_client.molecule"
   ]
  },
  {
   "cell_type": "code",
   "execution_count": 4,
   "id": "31f5b39c-3488-4d98-94ff-d0684fc6ddec",
   "metadata": {},
   "outputs": [],
   "source": [
    "biotherapeutics = molecule.filter(biotherapeutic_isnull=False)"
   ]
  },
  {
   "cell_type": "code",
   "execution_count": 11,
   "id": "3bf6db00-cdc5-4b47-94b2-d0d6bc741cb0",
   "metadata": {},
   "outputs": [
    {
     "data": {
      "text/plain": [
       "'Small molecule'"
      ]
     },
     "execution_count": 11,
     "metadata": {},
     "output_type": "execute_result"
    }
   ],
   "source": [
    "biotherapeutics[0]['molecule_type']"
   ]
  },
  {
   "cell_type": "code",
   "execution_count": 60,
   "id": "c16c2185-21f8-467b-b747-50ad40c05906",
   "metadata": {},
   "outputs": [],
   "source": [
    "sm = biotherapeutics.filter(molecule_type='Small molecule')\n",
    "oligon = biotherapeutics.filter(molecule_type='Oligonucleotide')\n",
    "oligos = biotherapeutics.filter(molecule_type='Oligosaccharide')\n",
    "protein = biotherapeutics.filter(molecule_type='Protein')\n",
    "unk = biotherapeutics.filter(molecule_type='Unknown')\n",
    "anti = biotherapeutics.filter(molecule_type='Antibody')\n",
    "gene = biotherapeutics.filter(molecule_type='Gene')\n",
    "enz = biotherapeutics.filter(molecule_type='Enzyme')\n",
    "ADC = biotherapeutics.filter(molecule_type='Antibody drug conjugate')\n",
    "Other = biotherapeutics.filter(molecule_type='Other')\n",
    "NA = biotherapeutics.filter(molecule_type='N/A')\n",
    "cell = biotherapeutics.filter(molecule_type='Cell')\n",
    "non = biotherapeutics.filter(molecule_type=None)"
   ]
  },
  {
   "cell_type": "code",
   "execution_count": 61,
   "id": "fe90d31e-ab50-4592-aa52-b2da8883fbec",
   "metadata": {},
   "outputs": [
    {
     "name": "stdout",
     "output_type": "stream",
     "text": [
      "2496335\n",
      "2496335\n"
     ]
    }
   ],
   "source": [
    "print(len(non)+len(sm)+len(oligon)+len(oligos)+len(protein)+len(unk)+len(anti)+len(gene)+len(enz)+len(ADC)+len(Other)+len(NA)+len(cell))\n",
    "print(len(biotherapeutics))"
   ]
  },
  {
   "cell_type": "code",
   "execution_count": 62,
   "id": "0df0cbc8-a7ac-456f-81db-afaec7b3deed",
   "metadata": {},
   "outputs": [
    {
     "data": {
      "text/plain": [
       "{'atc_classifications': [],\n",
       " 'availability_type': -1,\n",
       " 'biotherapeutic': None,\n",
       " 'black_box_warning': 0,\n",
       " 'chebi_par_id': None,\n",
       " 'chemical_probe': 0,\n",
       " 'chirality': -1,\n",
       " 'cross_references': [],\n",
       " 'dosed_ingredient': False,\n",
       " 'first_approval': None,\n",
       " 'first_in_class': -1,\n",
       " 'helm_notation': None,\n",
       " 'indication_class': None,\n",
       " 'inorganic_flag': -1,\n",
       " 'max_phase': None,\n",
       " 'molecule_chembl_id': 'CHEMBL5169321',\n",
       " 'molecule_hierarchy': {'active_chembl_id': 'CHEMBL5169321',\n",
       "  'molecule_chembl_id': 'CHEMBL5169321',\n",
       "  'parent_chembl_id': 'CHEMBL5169321'},\n",
       " 'molecule_properties': {'alogp': '7.70',\n",
       "  'aromatic_rings': 4,\n",
       "  'cx_logd': '9.47',\n",
       "  'cx_logp': '9.47',\n",
       "  'cx_most_apka': None,\n",
       "  'cx_most_bpka': None,\n",
       "  'full_molformula': 'C36H42O2P+',\n",
       "  'full_mwt': '537.70',\n",
       "  'hba': 2,\n",
       "  'hba_lipinski': 2,\n",
       "  'hbd': 0,\n",
       "  'hbd_lipinski': 0,\n",
       "  'heavy_atoms': 39,\n",
       "  'molecular_species': 'NEUTRAL',\n",
       "  'mw_freebase': '537.70',\n",
       "  'mw_monoisotopic': '537.2917',\n",
       "  'np_likeness_score': '0.04',\n",
       "  'num_lipinski_ro5_violations': 2,\n",
       "  'num_ro5_violations': 2,\n",
       "  'psa': '26.30',\n",
       "  'qed_weighted': '0.10',\n",
       "  'ro3_pass': 'N',\n",
       "  'rtb': 13},\n",
       " 'molecule_structures': {'canonical_smiles': 'CC(C)Cc1ccc(C(C)C(=O)OCCCCC[P+](c2ccccc2)(c2ccccc2)c2ccccc2)cc1',\n",
       "  'molfile': ' \\n     RDKit          2D\\n\\n 39 42  0  0  0  0  0  0  0  0999 V2000\\n   -3.2009   -2.2212    0.0000 C   0  0  0  0  0  0  0  0  0  0  0  0\\n   -3.2009   -1.3962    0.0000 C   0  0  0  0  0  0  0  0  0  0  0  0\\n   -2.4894   -0.9856    0.0000 C   0  0  0  0  0  0  0  0  0  0  0  0\\n   -1.7805   -1.3958    0.0000 C   0  0  0  0  0  0  0  0  0  0  0  0\\n   -1.7805   -2.2174    0.0000 C   0  0  0  0  0  0  0  0  0  0  0  0\\n   -2.4876   -2.6275    0.0000 C   0  0  0  0  0  0  0  0  0  0  0  0\\n   -1.0689   -2.6283    0.0000 C   0  0  0  0  0  0  0  0  0  0  0  0\\n   -1.0689   -3.4500    0.0000 C   0  0  0  0  0  0  0  0  0  0  0  0\\n   -0.3573   -2.2174    0.0000 C   0  0  0  0  0  0  0  0  0  0  0  0\\n    0.3542   -2.6283    0.0000 O   0  0  0  0  0  0  0  0  0  0  0  0\\n    1.0658   -2.2174    0.0000 C   0  0  0  0  0  0  0  0  0  0  0  0\\n    1.0658   -1.3958    0.0000 C   0  0  0  0  0  0  0  0  0  0  0  0\\n    1.7775   -0.9849    0.0000 C   0  0  0  0  0  0  0  0  0  0  0  0\\n    1.7775   -0.1632    0.0000 C   0  0  0  0  0  0  0  0  0  0  0  0\\n    2.4891    0.2475    0.0000 C   0  0  0  0  0  0  0  0  0  0  0  0\\n    2.4891    1.0692    0.0000 P   0  0  0  0  0  0  0  0  0  0  0  0\\n    3.2007    1.4801    0.0000 C   0  0  0  0  0  0  0  0  0  0  0  0\\n    3.2007    2.3018    0.0000 C   0  0  0  0  0  0  0  0  0  0  0  0\\n    3.9108    2.7108    0.0000 C   0  0  0  0  0  0  0  0  0  0  0  0\\n    4.6241    2.2998    0.0000 C   0  0  0  0  0  0  0  0  0  0  0  0\\n    4.6241    1.4822    0.0000 C   0  0  0  0  0  0  0  0  0  0  0  0\\n    3.9154    1.0673    0.0000 C   0  0  0  0  0  0  0  0  0  0  0  0\\n    2.2759    1.8644    0.0000 C   0  0  0  0  0  0  0  0  0  0  0  0\\n    1.4823    2.0773    0.0000 C   0  0  0  0  0  0  0  0  0  0  0  0\\n    1.2709    2.8687    0.0000 C   0  0  0  0  0  0  0  0  0  0  0  0\\n    1.8522    3.4500    0.0000 C   0  0  0  0  0  0  0  0  0  0  0  0\\n    2.6424    3.2399    0.0000 C   0  0  0  0  0  0  0  0  0  0  0  0\\n    2.8595    2.4479    0.0000 C   0  0  0  0  0  0  0  0  0  0  0  0\\n    1.6674    1.0692    0.0000 C   0  0  0  0  0  0  0  0  0  0  0  0\\n    1.2563    0.3584    0.0000 C   0  0  0  0  0  0  0  0  0  0  0  0\\n    0.4370    0.3584    0.0000 C   0  0  0  0  0  0  0  0  0  0  0  0\\n    0.0261    1.0703    0.0000 C   0  0  0  0  0  0  0  0  0  0  0  0\\n    0.4336    1.7839    0.0000 C   0  0  0  0  0  0  0  0  0  0  0  0\\n    1.2547    1.7839    0.0000 C   0  0  0  0  0  0  0  0  0  0  0  0\\n   -0.3573   -1.3958    0.0000 O   0  0  0  0  0  0  0  0  0  0  0  0\\n   -3.9126   -0.9854    0.0000 C   0  0  0  0  0  0  0  0  0  0  0  0\\n   -3.9126   -0.1636    0.0000 C   0  0  0  0  0  0  0  0  0  0  0  0\\n   -3.2009    0.2471    0.0000 C   0  0  0  0  0  0  0  0  0  0  0  0\\n   -4.6241    0.2471    0.0000 C   0  0  0  0  0  0  0  0  0  0  0  0\\n  2  1  1  0\\n  3  2  2  0\\n  4  3  1  0\\n  5  4  2  0\\n  6  5  1  0\\n  1  6  2  0\\n  5  7  1  0\\n  7  8  1  0\\n  7  9  1  0\\n  9 10  1  0\\n 10 11  1  0\\n 11 12  1  0\\n 12 13  1  0\\n 13 14  1  0\\n 14 15  1  0\\n 15 16  1  0\\n 16 17  1  0\\n 18 17  2  0\\n 19 18  1  0\\n 20 19  2  0\\n 21 20  1  0\\n 22 21  2  0\\n 17 22  1  0\\n 16 23  1  0\\n 24 23  2  0\\n 25 24  1  0\\n 26 25  2  0\\n 27 26  1  0\\n 28 27  2  0\\n 23 28  1  0\\n 16 29  1  0\\n 30 29  2  0\\n 31 30  1  0\\n 32 31  2  0\\n 33 32  1  0\\n 34 33  2  0\\n 29 34  1  0\\n  9 35  2  0\\n  2 36  1  0\\n 36 37  1  0\\n 37 38  1  0\\n 37 39  1  0\\nM  CHG  1  16   1\\nM  END\\n> <chembl_id>\\nCHEMBL5169321\\n\\n> <chembl_pref_name>\\nNone',\n",
       "  'standard_inchi': 'InChI=1S/C36H42O2P/c1-29(2)28-31-22-24-32(25-23-31)30(3)36(37)38-26-14-7-15-27-39(33-16-8-4-9-17-33,34-18-10-5-11-19-34)35-20-12-6-13-21-35/h4-6,8-13,16-25,29-30H,7,14-15,26-28H2,1-3H3/q+1',\n",
       "  'standard_inchi_key': 'RJQAOKUIBZFGQW-UHFFFAOYSA-N'},\n",
       " 'molecule_synonyms': [],\n",
       " 'molecule_type': None,\n",
       " 'natural_product': 0,\n",
       " 'oral': False,\n",
       " 'orphan': -1,\n",
       " 'parenteral': False,\n",
       " 'polymer_flag': 0,\n",
       " 'pref_name': None,\n",
       " 'prodrug': -1,\n",
       " 'structure_type': 'MOL',\n",
       " 'therapeutic_flag': False,\n",
       " 'topical': False,\n",
       " 'usan_stem': None,\n",
       " 'usan_stem_definition': None,\n",
       " 'usan_substem': None,\n",
       " 'usan_year': None,\n",
       " 'withdrawn_flag': False}"
      ]
     },
     "execution_count": 62,
     "metadata": {},
     "output_type": "execute_result"
    }
   ],
   "source": [
    "non[0]["
   ]
  },
  {
   "cell_type": "code",
   "execution_count": null,
   "id": "f15ca41b-f1d7-4d47-b7ad-e982d4854f7c",
   "metadata": {},
   "outputs": [],
   "source": []
  }
 ],
 "metadata": {
  "kernelspec": {
   "display_name": "Python 3 (ipykernel)",
   "language": "python",
   "name": "python3"
  },
  "language_info": {
   "codemirror_mode": {
    "name": "ipython",
    "version": 3
   },
   "file_extension": ".py",
   "mimetype": "text/x-python",
   "name": "python",
   "nbconvert_exporter": "python",
   "pygments_lexer": "ipython3",
   "version": "3.10.13"
  }
 },
 "nbformat": 4,
 "nbformat_minor": 5
}
