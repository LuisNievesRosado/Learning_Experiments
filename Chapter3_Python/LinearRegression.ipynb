{
 "cells": [
  {
   "cell_type": "code",
   "execution_count": 1,
   "id": "ba91f15e",
   "metadata": {},
   "outputs": [],
   "source": [
    "import numpy as np\n",
    "import pandas as pd\n",
    "import matplotlib.pyplot as plt\n",
    "import statsmodels.api as sm\n",
    "from statsmodels.stats.outliers_influence \\\n",
    "    import variance_inflation_factor as VIF\n",
    "from statsmodels.stats.anova import anova_lm"
   ]
  },
  {
   "cell_type": "code",
   "execution_count": 4,
   "id": "0238c6c1-6c9b-4492-82db-124fba0b4792",
   "metadata": {},
   "outputs": [],
   "source": [
    "from ISLP import load_data\n",
    "from ISLP.models import (ModelSpec as MS, summarize, poly)"
   ]
  },
  {
   "cell_type": "code",
   "execution_count": 5,
   "id": "86856526-a3c6-427a-bf80-cbcb0bffae3e",
   "metadata": {},
   "outputs": [],
   "source": [
    "Boston = load_data(\"Boston\")"
   ]
  },
  {
   "cell_type": "code",
   "execution_count": 7,
   "id": "505e07c1-872d-45b4-aaaa-501ea6c690d2",
   "metadata": {},
   "outputs": [
    {
     "data": {
      "text/plain": [
       "Index(['crim', 'zn', 'indus', 'chas', 'nox', 'rm', 'age', 'dis', 'rad', 'tax',\n",
       "       'ptratio', 'lstat', 'medv'],\n",
       "      dtype='object')"
      ]
     },
     "execution_count": 7,
     "metadata": {},
     "output_type": "execute_result"
    }
   ],
   "source": [
    "Boston.columns"
   ]
  },
  {
   "cell_type": "code",
   "execution_count": 8,
   "id": "8fb79506-6f06-415c-b550-10cdde73e519",
   "metadata": {},
   "outputs": [
    {
     "data": {
      "text/plain": [
       "\u001b[1;31mType:\u001b[0m        DataFrame\n",
       "\u001b[1;31mString form:\u001b[0m\n",
       "crim    zn  indus  chas    nox     rm   age     dis  rad  tax  \\\n",
       "           0    0.00632  18.0   2.3 <...> 0   5.64  23.9\n",
       "           504     21.0   6.48  22.0\n",
       "           505     21.0   7.88  11.9\n",
       "           \n",
       "           [506 rows x 13 columns]\n",
       "\u001b[1;31mLength:\u001b[0m      506\n",
       "\u001b[1;31mFile:\u001b[0m        c:\\users\\luisn\\.conda\\envs\\islp\\lib\\site-packages\\pandas\\core\\frame.py\n",
       "\u001b[1;31mDocstring:\u001b[0m  \n",
       "Two-dimensional, size-mutable, potentially heterogeneous tabular data.\n",
       "\n",
       "Data structure also contains labeled axes (rows and columns).\n",
       "Arithmetic operations align on both row and column labels. Can be\n",
       "thought of as a dict-like container for Series objects. The primary\n",
       "pandas data structure.\n",
       "\n",
       "Parameters\n",
       "----------\n",
       "data : ndarray (structured or homogeneous), Iterable, dict, or DataFrame\n",
       "    Dict can contain Series, arrays, constants, dataclass or list-like objects. If\n",
       "    data is a dict, column order follows insertion-order. If a dict contains Series\n",
       "    which have an index defined, it is aligned by its index. This alignment also\n",
       "    occurs if data is a Series or a DataFrame itself. Alignment is done on\n",
       "    Series/DataFrame inputs.\n",
       "\n",
       "    If data is a list of dicts, column order follows insertion-order.\n",
       "\n",
       "index : Index or array-like\n",
       "    Index to use for resulting frame. Will default to RangeIndex if\n",
       "    no indexing information part of input data and no index provided.\n",
       "columns : Index or array-like\n",
       "    Column labels to use for resulting frame when data does not have them,\n",
       "    defaulting to RangeIndex(0, 1, 2, ..., n). If data contains column labels,\n",
       "    will perform column selection instead.\n",
       "dtype : dtype, default None\n",
       "    Data type to force. Only a single dtype is allowed. If None, infer.\n",
       "copy : bool or None, default None\n",
       "    Copy data from inputs.\n",
       "    For dict data, the default of None behaves like ``copy=True``.  For DataFrame\n",
       "    or 2d ndarray input, the default of None behaves like ``copy=False``.\n",
       "    If data is a dict containing one or more Series (possibly of different dtypes),\n",
       "    ``copy=False`` will ensure that these inputs are not copied.\n",
       "\n",
       "    .. versionchanged:: 1.3.0\n",
       "\n",
       "See Also\n",
       "--------\n",
       "DataFrame.from_records : Constructor from tuples, also record arrays.\n",
       "DataFrame.from_dict : From dicts of Series, arrays, or dicts.\n",
       "read_csv : Read a comma-separated values (csv) file into DataFrame.\n",
       "read_table : Read general delimited file into DataFrame.\n",
       "read_clipboard : Read text from clipboard into DataFrame.\n",
       "\n",
       "Notes\n",
       "-----\n",
       "Please reference the :ref:`User Guide <basics.dataframe>` for more information.\n",
       "\n",
       "Examples\n",
       "--------\n",
       "Constructing DataFrame from a dictionary.\n",
       "\n",
       ">>> d = {'col1': [1, 2], 'col2': [3, 4]}\n",
       ">>> df = pd.DataFrame(data=d)\n",
       ">>> df\n",
       "   col1  col2\n",
       "0     1     3\n",
       "1     2     4\n",
       "\n",
       "Notice that the inferred dtype is int64.\n",
       "\n",
       ">>> df.dtypes\n",
       "col1    int64\n",
       "col2    int64\n",
       "dtype: object\n",
       "\n",
       "To enforce a single dtype:\n",
       "\n",
       ">>> df = pd.DataFrame(data=d, dtype=np.int8)\n",
       ">>> df.dtypes\n",
       "col1    int8\n",
       "col2    int8\n",
       "dtype: object\n",
       "\n",
       "Constructing DataFrame from a dictionary including Series:\n",
       "\n",
       ">>> d = {'col1': [0, 1, 2, 3], 'col2': pd.Series([2, 3], index=[2, 3])}\n",
       ">>> pd.DataFrame(data=d, index=[0, 1, 2, 3])\n",
       "   col1  col2\n",
       "0     0   NaN\n",
       "1     1   NaN\n",
       "2     2   2.0\n",
       "3     3   3.0\n",
       "\n",
       "Constructing DataFrame from numpy ndarray:\n",
       "\n",
       ">>> df2 = pd.DataFrame(np.array([[1, 2, 3], [4, 5, 6], [7, 8, 9]]),\n",
       "...                    columns=['a', 'b', 'c'])\n",
       ">>> df2\n",
       "   a  b  c\n",
       "0  1  2  3\n",
       "1  4  5  6\n",
       "2  7  8  9\n",
       "\n",
       "Constructing DataFrame from a numpy ndarray that has labeled columns:\n",
       "\n",
       ">>> data = np.array([(1, 2, 3), (4, 5, 6), (7, 8, 9)],\n",
       "...                 dtype=[(\"a\", \"i4\"), (\"b\", \"i4\"), (\"c\", \"i4\")])\n",
       ">>> df3 = pd.DataFrame(data, columns=['c', 'a'])\n",
       "...\n",
       ">>> df3\n",
       "   c  a\n",
       "0  3  1\n",
       "1  6  4\n",
       "2  9  7\n",
       "\n",
       "Constructing DataFrame from dataclass:\n",
       "\n",
       ">>> from dataclasses import make_dataclass\n",
       ">>> Point = make_dataclass(\"Point\", [(\"x\", int), (\"y\", int)])\n",
       ">>> pd.DataFrame([Point(0, 0), Point(0, 3), Point(2, 3)])\n",
       "   x  y\n",
       "0  0  0\n",
       "1  0  3\n",
       "2  2  3\n",
       "\n",
       "Constructing DataFrame from Series/DataFrame:\n",
       "\n",
       ">>> ser = pd.Series([1, 2, 3], index=[\"a\", \"b\", \"c\"])\n",
       ">>> df = pd.DataFrame(data=ser, index=[\"a\", \"c\"])\n",
       ">>> df\n",
       "   0\n",
       "a  1\n",
       "c  3\n",
       "\n",
       ">>> df1 = pd.DataFrame([1, 2, 3], index=[\"a\", \"b\", \"c\"], columns=[\"x\"])\n",
       ">>> df2 = pd.DataFrame(data=df1, index=[\"a\", \"c\"])\n",
       ">>> df2\n",
       "   x\n",
       "a  1\n",
       "c  3"
      ]
     },
     "metadata": {},
     "output_type": "display_data"
    }
   ],
   "source": [
    "Boston?"
   ]
  },
  {
   "cell_type": "code",
   "execution_count": null,
   "id": "bdd45771-5377-488a-a2c3-662221316be1",
   "metadata": {},
   "outputs": [],
   "source": [
    "# Simple linear regression on medv vs lstat"
   ]
  },
  {
   "cell_type": "code",
   "execution_count": 9,
   "id": "142cfb8a-8048-407b-bde0-539acc7ec283",
   "metadata": {},
   "outputs": [],
   "source": [
    "X = pd.DataFrame({'intercept': np.ones(Boston.shape[0]),'lstat': Boston['lstat']})\n",
    "# Intercept is a fake variable = 1 added to get an additional fitting paramter. \n",
    "# Seems that without it sm assumes zero intercept by default."
   ]
  },
  {
   "cell_type": "code",
   "execution_count": 11,
   "id": "56c14f9e-25c4-402b-aefe-b3ed696d5336",
   "metadata": {},
   "outputs": [],
   "source": [
    "Y = Boston['medv']\n",
    "model = sm.OLS(Y,X)\n",
    "results = model.fit()"
   ]
  },
  {
   "cell_type": "code",
   "execution_count": 13,
   "id": "43ddbb6e-0f8f-49e9-a59d-18ff0914b923",
   "metadata": {},
   "outputs": [
    {
     "data": {
      "text/html": [
       "<div>\n",
       "<style scoped>\n",
       "    .dataframe tbody tr th:only-of-type {\n",
       "        vertical-align: middle;\n",
       "    }\n",
       "\n",
       "    .dataframe tbody tr th {\n",
       "        vertical-align: top;\n",
       "    }\n",
       "\n",
       "    .dataframe thead th {\n",
       "        text-align: right;\n",
       "    }\n",
       "</style>\n",
       "<table border=\"1\" class=\"dataframe\">\n",
       "  <thead>\n",
       "    <tr style=\"text-align: right;\">\n",
       "      <th></th>\n",
       "      <th>coef</th>\n",
       "      <th>std err</th>\n",
       "      <th>t</th>\n",
       "      <th>P&gt;|t|</th>\n",
       "    </tr>\n",
       "  </thead>\n",
       "  <tbody>\n",
       "    <tr>\n",
       "      <th>intercept</th>\n",
       "      <td>34.5538</td>\n",
       "      <td>0.563</td>\n",
       "      <td>61.415</td>\n",
       "      <td>0.0</td>\n",
       "    </tr>\n",
       "    <tr>\n",
       "      <th>lstat</th>\n",
       "      <td>-0.9500</td>\n",
       "      <td>0.039</td>\n",
       "      <td>-24.528</td>\n",
       "      <td>0.0</td>\n",
       "    </tr>\n",
       "  </tbody>\n",
       "</table>\n",
       "</div>"
      ],
      "text/plain": [
       "              coef  std err       t  P>|t|\n",
       "intercept  34.5538    0.563  61.415    0.0\n",
       "lstat      -0.9500    0.039 -24.528    0.0"
      ]
     },
     "execution_count": 13,
     "metadata": {},
     "output_type": "execute_result"
    }
   ],
   "source": [
    "summarize(results)"
   ]
  },
  {
   "cell_type": "code",
   "execution_count": 31,
   "id": "5d0cee89-b659-4169-bdec-fefbb401c0e0",
   "metadata": {},
   "outputs": [
    {
     "data": {
      "text/html": [
       "<div>\n",
       "<style scoped>\n",
       "    .dataframe tbody tr th:only-of-type {\n",
       "        vertical-align: middle;\n",
       "    }\n",
       "\n",
       "    .dataframe tbody tr th {\n",
       "        vertical-align: top;\n",
       "    }\n",
       "\n",
       "    .dataframe thead th {\n",
       "        text-align: right;\n",
       "    }\n",
       "</style>\n",
       "<table border=\"1\" class=\"dataframe\">\n",
       "  <thead>\n",
       "    <tr style=\"text-align: right;\">\n",
       "      <th></th>\n",
       "      <th>coef</th>\n",
       "      <th>std err</th>\n",
       "      <th>t</th>\n",
       "      <th>P&gt;|t|</th>\n",
       "    </tr>\n",
       "  </thead>\n",
       "  <tbody>\n",
       "    <tr>\n",
       "      <th>lstat</th>\n",
       "      <td>1.1221</td>\n",
       "      <td>0.055</td>\n",
       "      <td>20.271</td>\n",
       "      <td>0.0</td>\n",
       "    </tr>\n",
       "  </tbody>\n",
       "</table>\n",
       "</div>"
      ],
      "text/plain": [
       "         coef  std err       t  P>|t|\n",
       "lstat  1.1221    0.055  20.271    0.0"
      ]
     },
     "execution_count": 31,
     "metadata": {},
     "output_type": "execute_result"
    }
   ],
   "source": [
    "# Testing what happens in sm without intercept\n",
    "#XT = pd.DataFrame({'lstat': Boston['lstat']})\n",
    "#modelT = sm.OLS(Y,XT)\n",
    "#resultsT = modelT.fit()\n",
    "#summarize(resultsT)"
   ]
  },
  {
   "cell_type": "code",
   "execution_count": 30,
   "id": "aaa10382-a63c-4249-8d79-f0ba2c9d51e7",
   "metadata": {},
   "outputs": [
    {
     "data": {
      "text/plain": [
       "np.float64(34.55384087938308)"
      ]
     },
     "execution_count": 30,
     "metadata": {},
     "output_type": "execute_result"
    }
   ],
   "source": [
    "results.params['intercept']"
   ]
  },
  {
   "cell_type": "code",
   "execution_count": 59,
   "id": "4316de77-9737-4fbb-a78e-69d32d77618a",
   "metadata": {},
   "outputs": [
    {
     "data": {
      "image/png": "[encoded data removed]",
      "text/plain": [
       "<Figure size 640x480 with 1 Axes>"
      ]
     },
     "metadata": {},
     "output_type": "display_data"
    }
   ],
   "source": [
    "Xline = np.linspace(min(Boston['lstat']),max(Boston['lstat']),50)\n",
    "Yline  = 34.5538-0.9500*Xline          \n",
    "YlineT = 1.1221*Xline\n",
    "plt.figure()\n",
    "plt.scatter(Boston['lstat'],Boston['medv'])\n",
    "plt.scatter(results.fittedvalues,results.resid)\n",
    "plt.plot(Xline,Yline)\n",
    "\n",
    "#plt.plot(Xline,YlineT)\n",
    "plt.show()"
   ]
  },
  {
   "cell_type": "code",
   "execution_count": 41,
   "id": "1fbd7e0c-d96c-4449-9e8a-d962ab364210",
   "metadata": {},
   "outputs": [],
   "source": [
    "# MS is an ISLP function that creates a transform object (prob usuing \n",
    "# sklearn in the backgorund), which can then be used  worked with using\n",
    "# trnasform and fit to create the model matrix\n",
    "\n",
    "design = MS(['lstat']) # Here simply checks that lstat is there and takes it\n",
    "design = design.fit(Boston)\n",
    "X = design.transform(Boston) # Here simply takes the data and adds the intercept variable\n",
    "# X = design.fit_transform(Boston) #does the same thing for this example"
   ]
  },
  {
   "cell_type": "code",
   "execution_count": 47,
   "id": "a9ebf04e-08da-430c-8478-1752fd1a0caa",
   "metadata": {},
   "outputs": [
    {
     "data": {
      "text/html": [
       "<div>\n",
       "<style scoped>\n",
       "    .dataframe tbody tr th:only-of-type {\n",
       "        vertical-align: middle;\n",
       "    }\n",
       "\n",
       "    .dataframe tbody tr th {\n",
       "        vertical-align: top;\n",
       "    }\n",
       "\n",
       "    .dataframe thead th {\n",
       "        text-align: right;\n",
       "    }\n",
       "</style>\n",
       "<table border=\"1\" class=\"dataframe\">\n",
       "  <thead>\n",
       "    <tr style=\"text-align: right;\">\n",
       "      <th></th>\n",
       "      <th>intercept</th>\n",
       "      <th>lstat</th>\n",
       "    </tr>\n",
       "  </thead>\n",
       "  <tbody>\n",
       "    <tr>\n",
       "      <th>0</th>\n",
       "      <td>1.0</td>\n",
       "      <td>5</td>\n",
       "    </tr>\n",
       "    <tr>\n",
       "      <th>1</th>\n",
       "      <td>1.0</td>\n",
       "      <td>10</td>\n",
       "    </tr>\n",
       "    <tr>\n",
       "      <th>2</th>\n",
       "      <td>1.0</td>\n",
       "      <td>15</td>\n",
       "    </tr>\n",
       "  </tbody>\n",
       "</table>\n",
       "</div>"
      ],
      "text/plain": [
       "   intercept  lstat\n",
       "0        1.0      5\n",
       "1        1.0     10\n",
       "2        1.0     15"
      ]
     },
     "execution_count": 47,
     "metadata": {},
     "output_type": "execute_result"
    }
   ],
   "source": [
    "# Can use results form model manually such as above, but can also\n",
    "# use get-prediction. Need to make a new data frame for points you\n",
    "# want predicitons\n",
    "\n",
    "new_df = pd.DataFrame({'lstat':[5,10,15]})\n",
    "newX = design.transform(new_df) # design remembers fit  from before!\n",
    "newX"
   ]
  },
  {
   "cell_type": "code",
   "execution_count": 48,
   "id": "21e12bee-6196-41fc-b8f1-951d5107eaa3",
   "metadata": {},
   "outputs": [],
   "source": [
    "new_preds = results.get_prediction(newX)"
   ]
  },
  {
   "cell_type": "code",
   "execution_count": 57,
   "id": "be7fbd97-2721-4ad1-ab05-bfe7e91bb1d3",
   "metadata": {},
   "outputs": [
    {
     "data": {
      "text/plain": [
       "array([[17.56567478, 42.04151344],\n",
       "       [12.82762635, 37.27906833],\n",
       "       [ 8.0777421 , 32.52845905]])"
      ]
     },
     "execution_count": 57,
     "metadata": {},
     "output_type": "execute_result"
    }
   ],
   "source": [
    "new_preds.predicted_mean  # Predictions\n",
    "new_preds.conf_int(alpha=0.05) # Confidence intervals\n",
    "new_preds.conf_int(obs=True,alpha=0.05) # Prediction intervals takes into account possible\n",
    "                                        # randomness of observation itself"
   ]
  },
  {
   "cell_type": "code",
   "execution_count": 58,
   "id": "0cce0125-8601-4c65-a8c4-0e82eb0f0b09",
   "metadata": {},
   "outputs": [
    {
     "data": {
      "text/plain": [
       "\u001b[1;31mType:\u001b[0m        PredictionResults\n",
       "\u001b[1;31mString form:\u001b[0m <statsmodels.regression._prediction.PredictionResults object at 0x0000021C6D4D57F0>\n",
       "\u001b[1;31mFile:\u001b[0m        c:\\users\\luisn\\.conda\\envs\\islp\\lib\\site-packages\\statsmodels\\regression\\_prediction.py\n",
       "\u001b[1;31mDocstring:\u001b[0m  \n",
       "Results class for predictions.\n",
       "\n",
       "Parameters\n",
       "----------\n",
       "predicted_mean : ndarray\n",
       "    The array containing the prediction means.\n",
       "var_pred_mean : ndarray\n",
       "    The array of the variance of the prediction means.\n",
       "var_resid : ndarray\n",
       "    The array of residual variances.\n",
       "df : int\n",
       "    The degree of freedom used if dist is 't'.\n",
       "dist : {'norm', 't', object}\n",
       "    Either a string for the normal or t distribution or another object\n",
       "    that exposes a `ppf` method.\n",
       "row_labels : list[str]\n",
       "    Row labels used in summary frame."
      ]
     },
     "metadata": {},
     "output_type": "display_data"
    }
   ],
   "source": []
  },
  {
   "cell_type": "code",
   "execution_count": 60,
   "id": "dab6a15c-8a96-4987-8fe5-daec4cdef350",
   "metadata": {},
   "outputs": [],
   "source": [
    "#Multiple linear regression"
   ]
  },
  {
   "cell_type": "code",
   "execution_count": 64,
   "id": "bbc2ee49-bc75-4069-9dc1-75644f331b29",
   "metadata": {},
   "outputs": [
    {
     "data": {
      "text/html": [
       "<div>\n",
       "<style scoped>\n",
       "    .dataframe tbody tr th:only-of-type {\n",
       "        vertical-align: middle;\n",
       "    }\n",
       "\n",
       "    .dataframe tbody tr th {\n",
       "        vertical-align: top;\n",
       "    }\n",
       "\n",
       "    .dataframe thead th {\n",
       "        text-align: right;\n",
       "    }\n",
       "</style>\n",
       "<table border=\"1\" class=\"dataframe\">\n",
       "  <thead>\n",
       "    <tr style=\"text-align: right;\">\n",
       "      <th></th>\n",
       "      <th>coef</th>\n",
       "      <th>std err</th>\n",
       "      <th>t</th>\n",
       "      <th>P&gt;|t|</th>\n",
       "    </tr>\n",
       "  </thead>\n",
       "  <tbody>\n",
       "    <tr>\n",
       "      <th>intercept</th>\n",
       "      <td>33.2228</td>\n",
       "      <td>0.731</td>\n",
       "      <td>45.458</td>\n",
       "      <td>0.000</td>\n",
       "    </tr>\n",
       "    <tr>\n",
       "      <th>lstat</th>\n",
       "      <td>-1.0321</td>\n",
       "      <td>0.048</td>\n",
       "      <td>-21.416</td>\n",
       "      <td>0.000</td>\n",
       "    </tr>\n",
       "    <tr>\n",
       "      <th>age</th>\n",
       "      <td>0.0345</td>\n",
       "      <td>0.012</td>\n",
       "      <td>2.826</td>\n",
       "      <td>0.005</td>\n",
       "    </tr>\n",
       "  </tbody>\n",
       "</table>\n",
       "</div>"
      ],
      "text/plain": [
       "              coef  std err       t  P>|t|\n",
       "intercept  33.2228    0.731  45.458  0.000\n",
       "lstat      -1.0321    0.048 -21.416  0.000\n",
       "age         0.0345    0.012   2.826  0.005"
      ]
     },
     "execution_count": 64,
     "metadata": {},
     "output_type": "execute_result"
    }
   ],
   "source": [
    "X = MS(['lstat','age']).fit_transform(Boston)\n",
    "model1 = sm.OLS(Y,X)\n",
    "results1 = model1.fit()\n",
    "summarize(results1)"
   ]
  },
  {
   "cell_type": "code",
   "execution_count": 65,
   "id": "abd23c8b-41e2-4172-86f7-2605b9e44ced",
   "metadata": {},
   "outputs": [
    {
     "data": {
      "text/plain": [
       "Index(['crim', 'zn', 'indus', 'chas', 'nox', 'rm', 'age', 'dis', 'rad', 'tax',\n",
       "       'ptratio', 'lstat'],\n",
       "      dtype='object')"
      ]
     },
     "execution_count": 65,
     "metadata": {},
     "output_type": "execute_result"
    }
   ],
   "source": [
    "terms = Boston.columns.drop('medv')\n",
    "terms"
   ]
  },
  {
   "cell_type": "code",
   "execution_count": 66,
   "id": "64e29fa4-6ffb-4086-99db-9371fd9ada43",
   "metadata": {},
   "outputs": [
    {
     "data": {
      "text/html": [
       "<div>\n",
       "<style scoped>\n",
       "    .dataframe tbody tr th:only-of-type {\n",
       "        vertical-align: middle;\n",
       "    }\n",
       "\n",
       "    .dataframe tbody tr th {\n",
       "        vertical-align: top;\n",
       "    }\n",
       "\n",
       "    .dataframe thead th {\n",
       "        text-align: right;\n",
       "    }\n",
       "</style>\n",
       "<table border=\"1\" class=\"dataframe\">\n",
       "  <thead>\n",
       "    <tr style=\"text-align: right;\">\n",
       "      <th></th>\n",
       "      <th>coef</th>\n",
       "      <th>std err</th>\n",
       "      <th>t</th>\n",
       "      <th>P&gt;|t|</th>\n",
       "    </tr>\n",
       "  </thead>\n",
       "  <tbody>\n",
       "    <tr>\n",
       "      <th>intercept</th>\n",
       "      <td>41.6173</td>\n",
       "      <td>4.936</td>\n",
       "      <td>8.431</td>\n",
       "      <td>0.000</td>\n",
       "    </tr>\n",
       "    <tr>\n",
       "      <th>crim</th>\n",
       "      <td>-0.1214</td>\n",
       "      <td>0.033</td>\n",
       "      <td>-3.678</td>\n",
       "      <td>0.000</td>\n",
       "    </tr>\n",
       "    <tr>\n",
       "      <th>zn</th>\n",
       "      <td>0.0470</td>\n",
       "      <td>0.014</td>\n",
       "      <td>3.384</td>\n",
       "      <td>0.001</td>\n",
       "    </tr>\n",
       "    <tr>\n",
       "      <th>indus</th>\n",
       "      <td>0.0135</td>\n",
       "      <td>0.062</td>\n",
       "      <td>0.217</td>\n",
       "      <td>0.829</td>\n",
       "    </tr>\n",
       "    <tr>\n",
       "      <th>chas</th>\n",
       "      <td>2.8400</td>\n",
       "      <td>0.870</td>\n",
       "      <td>3.264</td>\n",
       "      <td>0.001</td>\n",
       "    </tr>\n",
       "    <tr>\n",
       "      <th>nox</th>\n",
       "      <td>-18.7580</td>\n",
       "      <td>3.851</td>\n",
       "      <td>-4.870</td>\n",
       "      <td>0.000</td>\n",
       "    </tr>\n",
       "    <tr>\n",
       "      <th>rm</th>\n",
       "      <td>3.6581</td>\n",
       "      <td>0.420</td>\n",
       "      <td>8.705</td>\n",
       "      <td>0.000</td>\n",
       "    </tr>\n",
       "    <tr>\n",
       "      <th>age</th>\n",
       "      <td>0.0036</td>\n",
       "      <td>0.013</td>\n",
       "      <td>0.271</td>\n",
       "      <td>0.787</td>\n",
       "    </tr>\n",
       "    <tr>\n",
       "      <th>dis</th>\n",
       "      <td>-1.4908</td>\n",
       "      <td>0.202</td>\n",
       "      <td>-7.394</td>\n",
       "      <td>0.000</td>\n",
       "    </tr>\n",
       "    <tr>\n",
       "      <th>rad</th>\n",
       "      <td>0.2894</td>\n",
       "      <td>0.067</td>\n",
       "      <td>4.325</td>\n",
       "      <td>0.000</td>\n",
       "    </tr>\n",
       "    <tr>\n",
       "      <th>tax</th>\n",
       "      <td>-0.0127</td>\n",
       "      <td>0.004</td>\n",
       "      <td>-3.337</td>\n",
       "      <td>0.001</td>\n",
       "    </tr>\n",
       "    <tr>\n",
       "      <th>ptratio</th>\n",
       "      <td>-0.9375</td>\n",
       "      <td>0.132</td>\n",
       "      <td>-7.091</td>\n",
       "      <td>0.000</td>\n",
       "    </tr>\n",
       "    <tr>\n",
       "      <th>lstat</th>\n",
       "      <td>-0.5520</td>\n",
       "      <td>0.051</td>\n",
       "      <td>-10.897</td>\n",
       "      <td>0.000</td>\n",
       "    </tr>\n",
       "  </tbody>\n",
       "</table>\n",
       "</div>"
      ],
      "text/plain": [
       "              coef  std err       t  P>|t|\n",
       "intercept  41.6173    4.936   8.431  0.000\n",
       "crim       -0.1214    0.033  -3.678  0.000\n",
       "zn          0.0470    0.014   3.384  0.001\n",
       "indus       0.0135    0.062   0.217  0.829\n",
       "chas        2.8400    0.870   3.264  0.001\n",
       "nox       -18.7580    3.851  -4.870  0.000\n",
       "rm          3.6581    0.420   8.705  0.000\n",
       "age         0.0036    0.013   0.271  0.787\n",
       "dis        -1.4908    0.202  -7.394  0.000\n",
       "rad         0.2894    0.067   4.325  0.000\n",
       "tax        -0.0127    0.004  -3.337  0.001\n",
       "ptratio    -0.9375    0.132  -7.091  0.000\n",
       "lstat      -0.5520    0.051 -10.897  0.000"
      ]
     },
     "execution_count": 66,
     "metadata": {},
     "output_type": "execute_result"
    }
   ],
   "source": [
    "X = MS(terms).fit_transform(Boston)\n",
    "model1 = sm.OLS(Y,X)\n",
    "results1 = model1.fit()\n",
    "summarize(results1)"
   ]
  },
  {
   "cell_type": "code",
   "execution_count": 70,
   "id": "7e68c051-3fdf-47ba-90d8-7349fb80e58d",
   "metadata": {},
   "outputs": [],
   "source": [
    "vals = [VIF(X,i) for i in range(1, X.shape[1])]\n",
    "vif = pd.DataFrame({'vif':vals},index=X.columns[1:]) # here ignoring intercept"
   ]
  },
  {
   "cell_type": "code",
   "execution_count": 71,
   "id": "45407374-929f-4513-b99a-cc70af7dad93",
   "metadata": {},
   "outputs": [
    {
     "data": {
      "text/html": [
       "<div>\n",
       "<style scoped>\n",
       "    .dataframe tbody tr th:only-of-type {\n",
       "        vertical-align: middle;\n",
       "    }\n",
       "\n",
       "    .dataframe tbody tr th {\n",
       "        vertical-align: top;\n",
       "    }\n",
       "\n",
       "    .dataframe thead th {\n",
       "        text-align: right;\n",
       "    }\n",
       "</style>\n",
       "<table border=\"1\" class=\"dataframe\">\n",
       "  <thead>\n",
       "    <tr style=\"text-align: right;\">\n",
       "      <th></th>\n",
       "      <th>vif</th>\n",
       "    </tr>\n",
       "  </thead>\n",
       "  <tbody>\n",
       "    <tr>\n",
       "      <th>crim</th>\n",
       "      <td>1.767486</td>\n",
       "    </tr>\n",
       "    <tr>\n",
       "      <th>zn</th>\n",
       "      <td>2.298459</td>\n",
       "    </tr>\n",
       "    <tr>\n",
       "      <th>indus</th>\n",
       "      <td>3.987181</td>\n",
       "    </tr>\n",
       "    <tr>\n",
       "      <th>chas</th>\n",
       "      <td>1.071168</td>\n",
       "    </tr>\n",
       "    <tr>\n",
       "      <th>nox</th>\n",
       "      <td>4.369093</td>\n",
       "    </tr>\n",
       "    <tr>\n",
       "      <th>rm</th>\n",
       "      <td>1.912532</td>\n",
       "    </tr>\n",
       "    <tr>\n",
       "      <th>age</th>\n",
       "      <td>3.088232</td>\n",
       "    </tr>\n",
       "    <tr>\n",
       "      <th>dis</th>\n",
       "      <td>3.954037</td>\n",
       "    </tr>\n",
       "    <tr>\n",
       "      <th>rad</th>\n",
       "      <td>7.445301</td>\n",
       "    </tr>\n",
       "    <tr>\n",
       "      <th>tax</th>\n",
       "      <td>9.002158</td>\n",
       "    </tr>\n",
       "    <tr>\n",
       "      <th>ptratio</th>\n",
       "      <td>1.797060</td>\n",
       "    </tr>\n",
       "    <tr>\n",
       "      <th>lstat</th>\n",
       "      <td>2.870777</td>\n",
       "    </tr>\n",
       "  </tbody>\n",
       "</table>\n",
       "</div>"
      ],
      "text/plain": [
       "              vif\n",
       "crim     1.767486\n",
       "zn       2.298459\n",
       "indus    3.987181\n",
       "chas     1.071168\n",
       "nox      4.369093\n",
       "rm       1.912532\n",
       "age      3.088232\n",
       "dis      3.954037\n",
       "rad      7.445301\n",
       "tax      9.002158\n",
       "ptratio  1.797060\n",
       "lstat    2.870777"
      ]
     },
     "execution_count": 71,
     "metadata": {},
     "output_type": "execute_result"
    }
   ],
   "source": [
    "vif"
   ]
  },
  {
   "cell_type": "code",
   "execution_count": 74,
   "id": "4c575fdd-268f-4a46-a1ae-0cf4090860ac",
   "metadata": {},
   "outputs": [
    {
     "data": {
      "text/html": [
       "<div>\n",
       "<style scoped>\n",
       "    .dataframe tbody tr th:only-of-type {\n",
       "        vertical-align: middle;\n",
       "    }\n",
       "\n",
       "    .dataframe tbody tr th {\n",
       "        vertical-align: top;\n",
       "    }\n",
       "\n",
       "    .dataframe thead th {\n",
       "        text-align: right;\n",
       "    }\n",
       "</style>\n",
       "<table border=\"1\" class=\"dataframe\">\n",
       "  <thead>\n",
       "    <tr style=\"text-align: right;\">\n",
       "      <th></th>\n",
       "      <th>coef</th>\n",
       "      <th>std err</th>\n",
       "      <th>t</th>\n",
       "      <th>P&gt;|t|</th>\n",
       "    </tr>\n",
       "  </thead>\n",
       "  <tbody>\n",
       "    <tr>\n",
       "      <th>intercept</th>\n",
       "      <td>36.0885</td>\n",
       "      <td>1.470</td>\n",
       "      <td>24.553</td>\n",
       "      <td>0.000</td>\n",
       "    </tr>\n",
       "    <tr>\n",
       "      <th>lstat</th>\n",
       "      <td>-1.3921</td>\n",
       "      <td>0.167</td>\n",
       "      <td>-8.313</td>\n",
       "      <td>0.000</td>\n",
       "    </tr>\n",
       "    <tr>\n",
       "      <th>age</th>\n",
       "      <td>-0.0007</td>\n",
       "      <td>0.020</td>\n",
       "      <td>-0.036</td>\n",
       "      <td>0.971</td>\n",
       "    </tr>\n",
       "    <tr>\n",
       "      <th>lstat:age</th>\n",
       "      <td>0.0042</td>\n",
       "      <td>0.002</td>\n",
       "      <td>2.244</td>\n",
       "      <td>0.025</td>\n",
       "    </tr>\n",
       "  </tbody>\n",
       "</table>\n",
       "</div>"
      ],
      "text/plain": [
       "              coef  std err       t  P>|t|\n",
       "intercept  36.0885    1.470  24.553  0.000\n",
       "lstat      -1.3921    0.167  -8.313  0.000\n",
       "age        -0.0007    0.020  -0.036  0.971\n",
       "lstat:age   0.0042    0.002   2.244  0.025"
      ]
     },
     "execution_count": 74,
     "metadata": {},
     "output_type": "execute_result"
    }
   ],
   "source": [
    "# Interaction terms\n",
    "X = MS(['lstat' ,'age',('lstat','age')]).fit_transform(Boston)\n",
    "model2 = sm.OLS(Y,X)\n",
    "summarize(model2.fit())\n"
   ]
  },
  {
   "cell_type": "code",
   "execution_count": 78,
   "id": "466481c6-17e9-4cb0-bfe0-9385ff9cf738",
   "metadata": {},
   "outputs": [
    {
     "data": {
      "text/html": [
       "<div>\n",
       "<style scoped>\n",
       "    .dataframe tbody tr th:only-of-type {\n",
       "        vertical-align: middle;\n",
       "    }\n",
       "\n",
       "    .dataframe tbody tr th {\n",
       "        vertical-align: top;\n",
       "    }\n",
       "\n",
       "    .dataframe thead th {\n",
       "        text-align: right;\n",
       "    }\n",
       "</style>\n",
       "<table border=\"1\" class=\"dataframe\">\n",
       "  <thead>\n",
       "    <tr style=\"text-align: right;\">\n",
       "      <th></th>\n",
       "      <th>coef</th>\n",
       "      <th>std err</th>\n",
       "      <th>t</th>\n",
       "      <th>P&gt;|t|</th>\n",
       "    </tr>\n",
       "  </thead>\n",
       "  <tbody>\n",
       "    <tr>\n",
       "      <th>intercept</th>\n",
       "      <td>17.7151</td>\n",
       "      <td>0.781</td>\n",
       "      <td>22.681</td>\n",
       "      <td>0.0</td>\n",
       "    </tr>\n",
       "    <tr>\n",
       "      <th>poly(lstat, degree=2)[0]</th>\n",
       "      <td>-179.2279</td>\n",
       "      <td>6.733</td>\n",
       "      <td>-26.620</td>\n",
       "      <td>0.0</td>\n",
       "    </tr>\n",
       "    <tr>\n",
       "      <th>poly(lstat, degree=2)[1]</th>\n",
       "      <td>72.9908</td>\n",
       "      <td>5.482</td>\n",
       "      <td>13.315</td>\n",
       "      <td>0.0</td>\n",
       "    </tr>\n",
       "    <tr>\n",
       "      <th>age</th>\n",
       "      <td>0.0703</td>\n",
       "      <td>0.011</td>\n",
       "      <td>6.471</td>\n",
       "      <td>0.0</td>\n",
       "    </tr>\n",
       "  </tbody>\n",
       "</table>\n",
       "</div>"
      ],
      "text/plain": [
       "                              coef  std err       t  P>|t|\n",
       "intercept                  17.7151    0.781  22.681    0.0\n",
       "poly(lstat, degree=2)[0] -179.2279    6.733 -26.620    0.0\n",
       "poly(lstat, degree=2)[1]   72.9908    5.482  13.315    0.0\n",
       "age                         0.0703    0.011   6.471    0.0"
      ]
     },
     "execution_count": 78,
     "metadata": {},
     "output_type": "execute_result"
    }
   ],
   "source": [
    "# Polynomial\n",
    "X = MS([poly('lstat',degree=2),'age']).fit_transform(Boston)\n",
    "model3 = sm.OLS(Y,X)\n",
    "results3 = model3.fit()\n",
    "summarize(results3)"
   ]
  },
  {
   "cell_type": "code",
   "execution_count": 80,
   "id": "66826100-b3f5-4cca-9195-95cca77d7e76",
   "metadata": {},
   "outputs": [
    {
     "data": {
      "text/html": [
       "<div>\n",
       "<style scoped>\n",
       "    .dataframe tbody tr th:only-of-type {\n",
       "        vertical-align: middle;\n",
       "    }\n",
       "\n",
       "    .dataframe tbody tr th {\n",
       "        vertical-align: top;\n",
       "    }\n",
       "\n",
       "    .dataframe thead th {\n",
       "        text-align: right;\n",
       "    }\n",
       "</style>\n",
       "<table border=\"1\" class=\"dataframe\">\n",
       "  <thead>\n",
       "    <tr style=\"text-align: right;\">\n",
       "      <th></th>\n",
       "      <th>df_resid</th>\n",
       "      <th>ssr</th>\n",
       "      <th>df_diff</th>\n",
       "      <th>ss_diff</th>\n",
       "      <th>F</th>\n",
       "      <th>Pr(&gt;F)</th>\n",
       "    </tr>\n",
       "  </thead>\n",
       "  <tbody>\n",
       "    <tr>\n",
       "      <th>0</th>\n",
       "      <td>493.0</td>\n",
       "      <td>11349.418808</td>\n",
       "      <td>0.0</td>\n",
       "      <td>NaN</td>\n",
       "      <td>NaN</td>\n",
       "      <td>NaN</td>\n",
       "    </tr>\n",
       "    <tr>\n",
       "      <th>1</th>\n",
       "      <td>502.0</td>\n",
       "      <td>14165.613251</td>\n",
       "      <td>-9.0</td>\n",
       "      <td>-2816.194443</td>\n",
       "      <td>11.0889</td>\n",
       "      <td>NaN</td>\n",
       "    </tr>\n",
       "  </tbody>\n",
       "</table>\n",
       "</div>"
      ],
      "text/plain": [
       "   df_resid           ssr  df_diff      ss_diff        F  Pr(>F)\n",
       "0     493.0  11349.418808      0.0          NaN      NaN     NaN\n",
       "1     502.0  14165.613251     -9.0 -2816.194443  11.0889     NaN"
      ]
     },
     "execution_count": 80,
     "metadata": {},
     "output_type": "execute_result"
    }
   ],
   "source": [
    "anova_lm(results1,results3)"
   ]
  },
  {
   "cell_type": "code",
   "execution_count": 82,
   "id": "3a4a7440-2e39-4a74-90aa-5d7252cabeaa",
   "metadata": {},
   "outputs": [
    {
     "data": {
      "image/png": "[encoded data removed]",
      "text/plain": [
       "<Figure size 640x480 with 1 Axes>"
      ]
     },
     "metadata": {},
     "output_type": "display_data"
    }
   ],
   "source": [
    "plt.figure()\n",
    "plt.scatter(results3.fittedvalues,results3.resid)\n",
    "plt.show()"
   ]
  },
  {
   "cell_type": "code",
   "execution_count": 83,
   "id": "2d839397-b04a-4af5-8f13-0d7926543e3d",
   "metadata": {},
   "outputs": [
    {
     "data": {
      "text/plain": [
       "Index(['Sales', 'CompPrice', 'Income', 'Advertising', 'Population', 'Price',\n",
       "       'ShelveLoc', 'Age', 'Education', 'Urban', 'US'],\n",
       "      dtype='object')"
      ]
     },
     "execution_count": 83,
     "metadata": {},
     "output_type": "execute_result"
    }
   ],
   "source": [
    "# Switch to Carseats data set\n",
    "Carseats = load_data('Carseats')\n",
    "Carseats.columns"
   ]
  },
  {
   "cell_type": "code",
   "execution_count": 85,
   "id": "c8b16375-de53-4ac1-9a91-ad3994ada43b",
   "metadata": {},
   "outputs": [
    {
     "data": {
      "text/html": [
       "<div>\n",
       "<style scoped>\n",
       "    .dataframe tbody tr th:only-of-type {\n",
       "        vertical-align: middle;\n",
       "    }\n",
       "\n",
       "    .dataframe tbody tr th {\n",
       "        vertical-align: top;\n",
       "    }\n",
       "\n",
       "    .dataframe thead th {\n",
       "        text-align: right;\n",
       "    }\n",
       "</style>\n",
       "<table border=\"1\" class=\"dataframe\">\n",
       "  <thead>\n",
       "    <tr style=\"text-align: right;\">\n",
       "      <th></th>\n",
       "      <th>coef</th>\n",
       "      <th>std err</th>\n",
       "      <th>t</th>\n",
       "      <th>P&gt;|t|</th>\n",
       "    </tr>\n",
       "  </thead>\n",
       "  <tbody>\n",
       "    <tr>\n",
       "      <th>intercept</th>\n",
       "      <td>6.5756</td>\n",
       "      <td>1.009</td>\n",
       "      <td>6.519</td>\n",
       "      <td>0.000</td>\n",
       "    </tr>\n",
       "    <tr>\n",
       "      <th>CompPrice</th>\n",
       "      <td>0.0929</td>\n",
       "      <td>0.004</td>\n",
       "      <td>22.567</td>\n",
       "      <td>0.000</td>\n",
       "    </tr>\n",
       "    <tr>\n",
       "      <th>Income</th>\n",
       "      <td>0.0109</td>\n",
       "      <td>0.003</td>\n",
       "      <td>4.183</td>\n",
       "      <td>0.000</td>\n",
       "    </tr>\n",
       "    <tr>\n",
       "      <th>Advertising</th>\n",
       "      <td>0.0702</td>\n",
       "      <td>0.023</td>\n",
       "      <td>3.107</td>\n",
       "      <td>0.002</td>\n",
       "    </tr>\n",
       "    <tr>\n",
       "      <th>Population</th>\n",
       "      <td>0.0002</td>\n",
       "      <td>0.000</td>\n",
       "      <td>0.433</td>\n",
       "      <td>0.665</td>\n",
       "    </tr>\n",
       "    <tr>\n",
       "      <th>Price</th>\n",
       "      <td>-0.1008</td>\n",
       "      <td>0.007</td>\n",
       "      <td>-13.549</td>\n",
       "      <td>0.000</td>\n",
       "    </tr>\n",
       "    <tr>\n",
       "      <th>ShelveLoc[Good]</th>\n",
       "      <td>4.8487</td>\n",
       "      <td>0.153</td>\n",
       "      <td>31.724</td>\n",
       "      <td>0.000</td>\n",
       "    </tr>\n",
       "    <tr>\n",
       "      <th>ShelveLoc[Medium]</th>\n",
       "      <td>1.9533</td>\n",
       "      <td>0.126</td>\n",
       "      <td>15.531</td>\n",
       "      <td>0.000</td>\n",
       "    </tr>\n",
       "    <tr>\n",
       "      <th>Age</th>\n",
       "      <td>-0.0579</td>\n",
       "      <td>0.016</td>\n",
       "      <td>-3.633</td>\n",
       "      <td>0.000</td>\n",
       "    </tr>\n",
       "    <tr>\n",
       "      <th>Education</th>\n",
       "      <td>-0.0209</td>\n",
       "      <td>0.020</td>\n",
       "      <td>-1.063</td>\n",
       "      <td>0.288</td>\n",
       "    </tr>\n",
       "    <tr>\n",
       "      <th>Urban[Yes]</th>\n",
       "      <td>0.1402</td>\n",
       "      <td>0.112</td>\n",
       "      <td>1.247</td>\n",
       "      <td>0.213</td>\n",
       "    </tr>\n",
       "    <tr>\n",
       "      <th>US[Yes]</th>\n",
       "      <td>-0.1576</td>\n",
       "      <td>0.149</td>\n",
       "      <td>-1.058</td>\n",
       "      <td>0.291</td>\n",
       "    </tr>\n",
       "    <tr>\n",
       "      <th>Income:Advertising</th>\n",
       "      <td>0.0008</td>\n",
       "      <td>0.000</td>\n",
       "      <td>2.698</td>\n",
       "      <td>0.007</td>\n",
       "    </tr>\n",
       "    <tr>\n",
       "      <th>Price:Age</th>\n",
       "      <td>0.0001</td>\n",
       "      <td>0.000</td>\n",
       "      <td>0.801</td>\n",
       "      <td>0.424</td>\n",
       "    </tr>\n",
       "  </tbody>\n",
       "</table>\n",
       "</div>"
      ],
      "text/plain": [
       "                      coef  std err       t  P>|t|\n",
       "intercept           6.5756    1.009   6.519  0.000\n",
       "CompPrice           0.0929    0.004  22.567  0.000\n",
       "Income              0.0109    0.003   4.183  0.000\n",
       "Advertising         0.0702    0.023   3.107  0.002\n",
       "Population          0.0002    0.000   0.433  0.665\n",
       "Price              -0.1008    0.007 -13.549  0.000\n",
       "ShelveLoc[Good]     4.8487    0.153  31.724  0.000\n",
       "ShelveLoc[Medium]   1.9533    0.126  15.531  0.000\n",
       "Age                -0.0579    0.016  -3.633  0.000\n",
       "Education          -0.0209    0.020  -1.063  0.288\n",
       "Urban[Yes]          0.1402    0.112   1.247  0.213\n",
       "US[Yes]            -0.1576    0.149  -1.058  0.291\n",
       "Income:Advertising  0.0008    0.000   2.698  0.007\n",
       "Price:Age           0.0001    0.000   0.801  0.424"
      ]
     },
     "execution_count": 85,
     "metadata": {},
     "output_type": "execute_result"
    }
   ],
   "source": [
    "allvars = list(Carseats.columns.drop('Sales'))\n",
    "y = Carseats['Sales']\n",
    "final = allvars + [('Income','Advertising'),('Price','Age')] #Interactions\n",
    "X = MS(final).fit_transform(Carseats) # Automatically creates dummy variables for Shelveloc\n",
    "model = sm.OLS(y,X)\n",
    "summarize(model.fit())"
   ]
  },
  {
   "cell_type": "code",
   "execution_count": null,
   "id": "594ac6b0-6c85-4f80-8d47-f6d0d46bed2c",
   "metadata": {},
   "outputs": [],
   "source": []
  }
 ],
 "metadata": {
  "kernelspec": {
   "display_name": "Python 3 (ipykernel)",
   "language": "python",
   "name": "python3"
  },
  "language_info": {
   "codemirror_mode": {
    "name": "ipython",
    "version": 3
   },
   "file_extension": ".py",
   "mimetype": "text/x-python",
   "name": "python",
   "nbconvert_exporter": "python",
   "pygments_lexer": "ipython3",
   "version": "3.13.2"
  }
 },
 "nbformat": 4,
 "nbformat_minor": 5
}
