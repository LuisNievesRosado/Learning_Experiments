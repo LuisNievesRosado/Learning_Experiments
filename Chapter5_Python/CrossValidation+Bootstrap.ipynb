{
 "cells": [
  {
   "cell_type": "markdown",
   "id": "e2306ddb-f74a-48e4-b5b8-69d032dac1c0",
   "metadata": {},
   "source": []
  },
  {
   "cell_type": "code",
   "execution_count": 3,
   "id": "6be6408f-58a0-4bff-85ae-678beddb00f6",
   "metadata": {},
   "outputs": [],
   "source": [
    "import numpy as np\n",
    "import statsmodels.api as sm\n",
    "from ISLP import load_data\n",
    "from ISLP.models import (ModelSpec as MS, summarize, poly)\n",
    "from sklearn.model_selection import train_test_split\n",
    "from functools import partial\n",
    "from sklearn.model_selection import (cross_validate,KFold,ShuffleSplit)\n",
    "from sklearn.base import clone\n",
    "from ISLP.models import sklearn_sm"
   ]
  },
  {
   "cell_type": "code",
   "execution_count": 58,
   "id": "08a1b22a-da83-474a-ac47-77a4ba42c638",
   "metadata": {},
   "outputs": [],
   "source": [
    "import pandas as pd"
   ]
  },
  {
   "cell_type": "code",
   "execution_count": 4,
   "id": "3a9cece1-e96d-4105-b389-5180a73aa77e",
   "metadata": {},
   "outputs": [],
   "source": [
    "Auto = load_data('Auto')\n",
    "Auto_train, Auto_valid = train_test_split(Auto,test_size=196,random_state=0)"
   ]
  },
  {
   "cell_type": "code",
   "execution_count": 6,
   "id": "b22d017c-980f-457e-aee9-6993a21aac19",
   "metadata": {},
   "outputs": [
    {
     "data": {
      "text/plain": [
       "np.float64(23.61661706966988)"
      ]
     },
     "execution_count": 6,
     "metadata": {},
     "output_type": "execute_result"
    }
   ],
   "source": [
    "# Linear regression on train\n",
    "hp_mm = MS(['horsepower'])\n",
    "X_train = hp_mm.fit_transform(Auto_train)\n",
    "y_train = Auto_train['mpg']\n",
    "model = sm.OLS(y_train,X_train)\n",
    "results = model.fit()\n",
    "\n",
    "X_valid = hp_mm.transform(Auto_valid)\n",
    "y_valid = Auto_valid['mpg']\n",
    "valid_pred = results.predict(X_valid)\n",
    "np.mean((y_valid-valid_pred)**2)"
   ]
  },
  {
   "cell_type": "code",
   "execution_count": 7,
   "id": "2543dc2c-2bf0-4db1-bcf0-b1124646d522",
   "metadata": {},
   "outputs": [],
   "source": [
    "def evalMSE(terms, response, train, test):\n",
    "    mm = MS(terms)\n",
    "    X_train = mm.fit_transform(train)\n",
    "    y_train = train[response]\n",
    "\n",
    "    X_test = mm.transform(test)\n",
    "    y_test = test[response]\n",
    "    \n",
    "    results = sm.OLS(y_train,X_train).fit()\n",
    "    test_pred = results.predict(X_test)\n",
    "\n",
    "    return np.mean((y_test - test_pred)**2)"
   ]
  },
  {
   "cell_type": "code",
   "execution_count": 10,
   "id": "3c533655-17eb-47d6-9270-fd20dc7aafb5",
   "metadata": {},
   "outputs": [
    {
     "data": {
      "text/plain": [
       "array([23.61661707, 18.76303135, 18.79694163])"
      ]
     },
     "execution_count": 10,
     "metadata": {},
     "output_type": "execute_result"
    }
   ],
   "source": [
    "MSE = np.zeros(3)\n",
    "for idx, degree in enumerate(range(1,4)):\n",
    "    MSE[idx] = evalMSE([poly('horsepower',degree)],'mpg',Auto_train,Auto_valid)\n",
    "MSE    # Can be repeated with other random seeds for further assessment"
   ]
  },
  {
   "cell_type": "code",
   "execution_count": 13,
   "id": "8176f5f5-4087-48f3-942f-49c5961bc5cd",
   "metadata": {},
   "outputs": [],
   "source": [
    "# Cross-Validation\n",
    "# sklearn_sm is a wrapper that conencts the models from sm to the\n",
    "# evaluation techniques in sklearn\n",
    "\n",
    "hp_model = sklearn_sm(sm.OLS,MS(['horsepower']))\n",
    "X,Y = Auto.drop(columns=['mpg']) , Auto['mpg']\n",
    "\n",
    "cv_results = cross_validate(hp_model, X, Y, cv = Auto.shape[0]) # model which is an sklearn\n",
    "                                         # model with fit() predict() and score()\n",
    "                                         # methods, features, response, integer cv \n",
    "                                         # here for K-folds\n",
    "\n",
    "cv_err = np.mean(cv_results['test_score'])"
   ]
  },
  {
   "cell_type": "code",
   "execution_count": 15,
   "id": "7e4622de-ef2a-4725-a162-f277644ba15a",
   "metadata": {},
   "outputs": [
    {
     "data": {
      "text/plain": [
       "np.float64(24.231513517929212)"
      ]
     },
     "execution_count": 15,
     "metadata": {},
     "output_type": "execute_result"
    }
   ],
   "source": [
    "cv_err"
   ]
  },
  {
   "cell_type": "code",
   "execution_count": 18,
   "id": "b365d947-1d6d-4749-beb2-1a499b2beed1",
   "metadata": {},
   "outputs": [
    {
     "data": {
      "text/plain": [
       "array([24.23151352, 19.24821312, 19.33498406, 19.42443031, 19.03320428])"
      ]
     },
     "execution_count": 18,
     "metadata": {},
     "output_type": "execute_result"
    }
   ],
   "source": [
    "# Check several poly fits\n",
    "\n",
    "cv_error =np.zeros(5)\n",
    "\n",
    "H = np.array(Auto['horsepower'])\n",
    "M = sklearn_sm(sm.OLS)\n",
    "\n",
    "for i, d in enumerate (range(1,6)):\n",
    "    X = np.power.outer(H,np.arange(d+1))\n",
    "    M_CV = cross_validate(M,X,Y,cv=Auto.shape[0])\n",
    "    cv_error[i] = np.mean(M_CV['test_score'])\n",
    "\n",
    "cv_error"
   ]
  },
  {
   "cell_type": "code",
   "execution_count": 21,
   "id": "35e944d8-7657-49f8-b742-bdfce0760163",
   "metadata": {},
   "outputs": [
    {
     "data": {
      "text/plain": [
       "array([24.20766449, 19.18533142, 19.27626666, 19.47848404, 19.13722016])"
      ]
     },
     "execution_count": 21,
     "metadata": {},
     "output_type": "execute_result"
    }
   ],
   "source": [
    "# Check several poly fits for K 10\n",
    "\n",
    "cv_error = np.zeros(5)\n",
    "cv = KFold(n_splits=10,shuffle=True,random_state=0\n",
    "          )\n",
    "H = np.array(Auto['horsepower'])\n",
    "M = sklearn_sm(sm.OLS)\n",
    "\n",
    "for i, d in enumerate (range(1,6)):\n",
    "    X = np.power.outer(H,np.arange(d+1))\n",
    "    M_CV = cross_validate(M,X,Y,cv=cv)\n",
    "    cv_error[i] = np.mean(M_CV['test_score'])\n",
    "\n",
    "cv_error"
   ]
  },
  {
   "cell_type": "code",
   "execution_count": 24,
   "id": "fe9f0adb-313f-4249-84b4-51234f17e15d",
   "metadata": {},
   "outputs": [],
   "source": [
    "# The Bootsrap\n",
    "Portfolio = load_data('Portfolio')\n",
    "def alpha_func(D,idx):\n",
    "    cov_ = np.cov(D[['X','Y']].loc[idx], rowvar=False)\n",
    "    return ((cov_[1,1] - cov_[0,1]) / (cov_[0,0] + cov_[1,1] - 2*cov_[0,1]))"
   ]
  },
  {
   "cell_type": "code",
   "execution_count": 25,
   "id": "03541340-01b9-487e-9a99-d711bebd20aa",
   "metadata": {},
   "outputs": [
    {
     "data": {
      "text/plain": [
       "np.float64(0.57583207459283)"
      ]
     },
     "execution_count": 25,
     "metadata": {},
     "output_type": "execute_result"
    }
   ],
   "source": [
    "alpha_func(Portfolio,range(100))"
   ]
  },
  {
   "cell_type": "code",
   "execution_count": 26,
   "id": "fff68c81-5b19-43dc-b35c-53e731cc16a4",
   "metadata": {},
   "outputs": [
    {
     "data": {
      "text/plain": [
       "np.float64(0.6074452469619004)"
      ]
     },
     "execution_count": 26,
     "metadata": {},
     "output_type": "execute_result"
    }
   ],
   "source": [
    "rng = np.random.default_rng(0)\n",
    "alpha_func(Portfolio, rng.choice(100,100,replace=True))"
   ]
  },
  {
   "cell_type": "code",
   "execution_count": 30,
   "id": "2e8bc337-4082-4905-bf15-20ff3b53c0f2",
   "metadata": {},
   "outputs": [],
   "source": [
    "def boot_SE(func, D, n=None, B=1000,seed=0):\n",
    "    rng = np.random.default_rng(seed)\n",
    "    first_, second_ = 0, 0    \n",
    "    n = n or D.shape[0]\n",
    "    for _ in range(B):\n",
    "        idx = rng.choice(D.index,n,replace=True)\n",
    "        value = func(D,idx)\n",
    "        first_ += value\n",
    "        second_ += value**2\n",
    "        return np.sqrt(second_ /B - (first_ /B)**2)"
   ]
  },
  {
   "cell_type": "code",
   "execution_count": 31,
   "id": "264b0256-adc5-4a6a-bd41-e05a98991ac3",
   "metadata": {},
   "outputs": [],
   "source": [
    "alpha_SE = boot_SE(alpha_func, Portfolio, B=1000,seed=0)"
   ]
  },
  {
   "cell_type": "code",
   "execution_count": 32,
   "id": "77325920-1aab-437e-9015-c80211dd7907",
   "metadata": {},
   "outputs": [
    {
     "data": {
      "text/plain": [
       "np.float64(0.019199498387420112)"
      ]
     },
     "execution_count": 32,
     "metadata": {},
     "output_type": "execute_result"
    }
   ],
   "source": [
    "alpha_SE"
   ]
  },
  {
   "cell_type": "code",
   "execution_count": 61,
   "id": "a7711475-e03c-40cd-a1b1-f1ae5adeeacb",
   "metadata": {},
   "outputs": [],
   "source": [
    "# Suing above for a regression model\n",
    "def boot_OLS(model_matrix, response, D, idx):\n",
    "    D_ = D.loc[idx]\n",
    "    Y_ = D_[response]\n",
    "    X_ = clone(model_matrix).fit_transform(D_)\n",
    "    return sm.OLS(Y_,X_).fit().params"
   ]
  },
  {
   "cell_type": "code",
   "execution_count": 62,
   "id": "f92a4252-a74f-4907-89a0-eb99d1ac6d43",
   "metadata": {},
   "outputs": [],
   "source": [
    "hp_func = partial(boot_OLS, MS(['horsepower']),'mpg')\n"
   ]
  },
  {
   "cell_type": "code",
   "execution_count": 68,
   "id": "952a271e-9f38-4413-8abb-3913531d51be",
   "metadata": {},
   "outputs": [
    {
     "data": {
      "text/plain": [
       "array([[39.88064456, -0.1567849 ],\n",
       "       [38.73298691, -0.14699495],\n",
       "       [38.31734657, -0.14442683],\n",
       "       [39.91446826, -0.15782234],\n",
       "       [39.43349349, -0.15072702],\n",
       "       [40.36629857, -0.15912217],\n",
       "       [39.62334517, -0.15449117],\n",
       "       [39.0580588 , -0.14952908],\n",
       "       [38.66688437, -0.14521037],\n",
       "       [39.64280792, -0.15555698]])"
      ]
     },
     "execution_count": 68,
     "metadata": {},
     "output_type": "execute_result"
    }
   ],
   "source": [
    "# Note error in book, Auto by deafult does not have integer index so\n",
    "# loc method does not work as expected. Cann add with reset_index\n",
    "\n",
    "rng = np.random.default_rng(0)\n",
    "np.array([hp_func(Auto.reset_index(),rng.choice(392,392,replace=True)) for _ in range(10)])"
   ]
  },
  {
   "cell_type": "code",
   "execution_count": 69,
   "id": "7c5610b3-2278-4d0d-b83a-a5fa5a7c060c",
   "metadata": {},
   "outputs": [],
   "source": [
    "hp_se = boot_SE(hp_func,Auto.reset_index(),B=1000,seed=10)"
   ]
  },
  {
   "cell_type": "code",
   "execution_count": 70,
   "id": "1376554b-ac0f-420a-97e0-44ca51bca73d",
   "metadata": {},
   "outputs": [
    {
     "data": {
      "text/plain": [
       "intercept     1.318953\n",
       "horsepower    0.005516\n",
       "dtype: float64"
      ]
     },
     "execution_count": 70,
     "metadata": {},
     "output_type": "execute_result"
    }
   ],
   "source": [
    "hp_se"
   ]
  },
  {
   "cell_type": "code",
   "execution_count": 71,
   "id": "bd01c330-260c-4166-b61d-64f94e08c1fd",
   "metadata": {},
   "outputs": [
    {
     "data": {
      "text/plain": [
       "intercept                                  1.662718\n",
       "poly(horsepower, degree=2, raw=True)[0]    0.012315\n",
       "poly(horsepower, degree=2, raw=True)[1]    0.000030\n",
       "dtype: float64"
      ]
     },
     "execution_count": 71,
     "metadata": {},
     "output_type": "execute_result"
    }
   ],
   "source": [
    "quad_model = MS([poly('horsepower',2,raw=True)])\n",
    "quad_func = partial(boot_OLS,quad_model,'mpg')\n",
    "boot_SE(quad_func,Auto.reset_index(),B=1000)"
   ]
  },
  {
   "cell_type": "code",
   "execution_count": null,
   "id": "6d6dd213-630e-48b4-81d0-46be3586f92e",
   "metadata": {},
   "outputs": [],
   "source": []
  }
 ],
 "metadata": {
  "kernelspec": {
   "display_name": "Python 3 (ipykernel)",
   "language": "python",
   "name": "python3"
  },
  "language_info": {
   "codemirror_mode": {
    "name": "ipython",
    "version": 3
   },
   "file_extension": ".py",
   "mimetype": "text/x-python",
   "name": "python",
   "nbconvert_exporter": "python",
   "pygments_lexer": "ipython3",
   "version": "3.13.2"
  }
 },
 "nbformat": 4,
 "nbformat_minor": 5
}
